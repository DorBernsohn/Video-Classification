{
 "cells": [
  {
   "cell_type": "markdown",
   "metadata": {},
   "source": [
    "#### Imports "
   ]
  },
  {
   "cell_type": "code",
   "execution_count": 1,
   "metadata": {
    "ExecuteTime": {
     "end_time": "2019-09-30T07:55:55.444417Z",
     "start_time": "2019-09-30T07:55:55.432427Z"
    },
    "colab": {},
    "colab_type": "code",
    "id": "97QxRRb9Le8E"
   },
   "outputs": [
    {
     "name": "stderr",
     "output_type": "stream",
     "text": [
      "Using TensorFlow backend.\n"
     ]
    }
   ],
   "source": [
    "import os\n",
    "import cv2\n",
    "import math\n",
    "import pickle\n",
    "import numpy as np\n",
    "import pandas as pd\n",
    "from glob import glob\n",
    "from tqdm import tqdm\n",
    "import matplotlib.pyplot as plt\n",
    "\n",
    "from sklearn.preprocessing import LabelBinarizer\n",
    "from sklearn.model_selection import train_test_split\n",
    "\n",
    "from keras.utils import np_utils\n",
    "from keras.optimizers import SGD\n",
    "from keras.preprocessing import image\n",
    "from keras.applications import ResNet50\n",
    "from keras.models import Model, Sequential\n",
    "from keras.layers.pooling import AveragePooling2D\n",
    "from keras.preprocessing.image import ImageDataGenerator\n",
    "from keras.callbacks import ModelCheckpoint, EarlyStopping\n",
    "from keras.layers import Dense, Dropout, Flatten, Conv2D, MaxPooling2D, Input\n",
    "\n",
    "\n",
    "from utils import video_to_frame, create_row_pixels\n",
    "\n",
    "%matplotlib inline"
   ]
  },
  {
   "cell_type": "markdown",
   "metadata": {},
   "source": [
    "#### Preprocessing "
   ]
  },
  {
   "cell_type": "code",
   "execution_count": null,
   "metadata": {
    "ExecuteTime": {
     "end_time": "2019-09-30T07:48:51.147636Z",
     "start_time": "2019-09-30T07:48:51.047639Z"
    },
    "colab": {},
    "colab_type": "code",
    "id": "i6cNIgicLe8I",
    "outputId": "ea605c8e-9da6-424a-ea15-90a9da9bb2c1"
   },
   "outputs": [],
   "source": [
    "# open the .txt file which have names of training videos\n",
    "train = pd.read_csv(r\"C:\\Users\\dbernsohn\\Documents\\projects\\SVW\\SVW.csv\")\n",
    "\n",
    "train = train[:-1]\n",
    "train.head()"
   ]
  },
  {
   "cell_type": "code",
   "execution_count": null,
   "metadata": {
    "ExecuteTime": {
     "end_time": "2019-09-30T07:48:51.331679Z",
     "start_time": "2019-09-30T07:48:51.195646Z"
    },
    "colab": {},
    "colab_type": "code",
    "id": "8styWMkLLe8N"
   },
   "outputs": [],
   "source": [
    "try:\n",
    "    frame_df = pd.read_csv('frame_df.csv')\n",
    "except:\n",
    "#     storing the frames from training videos\n",
    "    frame_df = video_to_frame(train, path_to_videos = r\"C:\\Users\\dbernsohn\\Documents\\projects\\SVW\\Videos\", path_to_save = r\"C:\\Users\\dbernsohn\\Documents\\Python Scripts\\video_classification\\train\")\n",
    "    frame_df.to_csv('frame_df.csv')"
   ]
  },
  {
   "cell_type": "markdown",
   "metadata": {
    "colab_type": "text",
    "id": "hAxF9PCeLe8R"
   },
   "source": [
    "#### Build the labels "
   ]
  },
  {
   "cell_type": "code",
   "execution_count": null,
   "metadata": {
    "ExecuteTime": {
     "end_time": "2019-09-30T07:50:19.714666Z",
     "start_time": "2019-09-30T07:48:51.391635Z"
    },
    "colab": {},
    "colab_type": "code",
    "id": "0VjOo8a5Le8S",
    "outputId": "0fa3fd91-e16a-472d-992e-75653b9fd8be"
   },
   "outputs": [],
   "source": [
    "print(\"Train on classes: \", ', '.join(frame_df.Class.unique()[:5]))\n",
    "data, labels = create_row_pixels(frame_df[frame_df.Class.isin(frame_df.Class.unique()[:5])], 'train')"
   ]
  },
  {
   "cell_type": "code",
   "execution_count": 2,
   "metadata": {
    "ExecuteTime": {
     "end_time": "2019-09-30T07:55:41.548415Z",
     "start_time": "2019-09-30T07:55:37.432885Z"
    },
    "colab": {},
    "colab_type": "code",
    "id": "nXnVcCchLe8V"
   },
   "outputs": [],
   "source": [
    "save = False\n",
    "if save:\n",
    "    np.save('data.npy', data)\n",
    "\n",
    "    with open('labels', 'wb') as fp:\n",
    "        pickle.dump(labels, fp)\n",
    "\n",
    "with open ('labels', 'rb') as fp:\n",
    "    labels = pickle.load(fp)\n",
    "    \n",
    "data = np.load('data.npz')\n",
    "data = data['a']"
   ]
  },
  {
   "cell_type": "markdown",
   "metadata": {
    "colab_type": "text",
    "id": "8qNLwY2eLe8Z"
   },
   "source": [
    "#### Split the data into train/test "
   ]
  },
  {
   "cell_type": "code",
   "execution_count": 3,
   "metadata": {
    "ExecuteTime": {
     "end_time": "2019-09-28T16:08:57.988568Z",
     "start_time": "2019-09-28T16:08:54.703842Z"
    },
    "colab": {},
    "colab_type": "code",
    "id": "KWpZWgGPLe8b"
   },
   "outputs": [],
   "source": [
    "data = np.array(data)\n",
    "labels = np.array(labels)\n",
    " \n",
    "lb = LabelBinarizer()\n",
    "labels = lb.fit_transform(labels)\n",
    " \n",
    "(trainX, testX, trainY, testY) = train_test_split(data, labels,\n",
    "    test_size=0.25, stratify=labels, random_state=42)"
   ]
  },
  {
   "cell_type": "markdown",
   "metadata": {
    "colab_type": "text",
    "id": "mocE9HJxLe8f"
   },
   "source": [
    "#### Create Generator "
   ]
  },
  {
   "cell_type": "code",
   "execution_count": 4,
   "metadata": {
    "ExecuteTime": {
     "end_time": "2019-09-28T16:08:58.125570Z",
     "start_time": "2019-09-28T16:08:58.117581Z"
    },
    "colab": {},
    "colab_type": "code",
    "id": "8zawOkbSLe8g"
   },
   "outputs": [],
   "source": [
    "trainAug = ImageDataGenerator(\n",
    "    rotation_range=30,\n",
    "    zoom_range=0.15,\n",
    "    width_shift_range=0.2,\n",
    "    height_shift_range=0.2,\n",
    "    shear_range=0.15,\n",
    "    horizontal_flip=True,\n",
    "    fill_mode=\"nearest\")\n",
    "\n",
    "valAug = ImageDataGenerator()"
   ]
  },
  {
   "cell_type": "markdown",
   "metadata": {
    "colab_type": "text",
    "id": "VEJpyVZdLe8i"
   },
   "source": [
    "#### Create model "
   ]
  },
  {
   "cell_type": "code",
   "execution_count": 5,
   "metadata": {
    "ExecuteTime": {
     "end_time": "2019-09-28T16:09:18.388310Z",
     "start_time": "2019-09-28T16:09:05.305824Z"
    },
    "colab": {
     "base_uri": "https://localhost:8080/",
     "height": 541
    },
    "colab_type": "code",
    "id": "9x7bjHoBLe8j",
    "outputId": "07ae6723-b698-4f64-cebf-fecc965f78c0"
   },
   "outputs": [
    {
     "name": "stdout",
     "output_type": "stream",
     "text": [
      "WARNING:tensorflow:From /home/rs/miniconda3/envs/nlp/lib/python3.7/site-packages/tensorflow/python/ops/resource_variable_ops.py:435: colocate_with (from tensorflow.python.framework.ops) is deprecated and will be removed in a future version.\n",
      "Instructions for updating:\n",
      "Colocations handled automatically by placer.\n"
     ]
    },
    {
     "name": "stderr",
     "output_type": "stream",
     "text": [
      "/home/rs/miniconda3/envs/nlp/lib/python3.7/site-packages/keras_applications/resnet50.py:265: UserWarning: The output shape of `ResNet50(include_top=False)` has been changed since Keras 2.2.0.\n",
      "  warnings.warn('The output shape of `ResNet50(include_top=False)` '\n"
     ]
    }
   ],
   "source": [
    "baseModel = ResNet50(weights=\"imagenet\", include_top=False,\n",
    "    input_tensor=Input(shape=(224, 224, 3)))\n",
    "\n",
    "headModel = baseModel.output\n",
    "headModel = AveragePooling2D(pool_size=(7, 7))(headModel)\n",
    "headModel = Flatten(name=\"flatten\")(headModel)\n",
    "headModel = Dense(512, activation=\"relu\")(headModel)\n",
    "headModel = Dropout(0.5)(headModel)\n",
    "headModel = Dense(len(lb.classes_), activation=\"softmax\")(headModel)\n",
    "\n",
    "model = Model(inputs=baseModel.input, outputs=headModel)\n",
    "\n",
    "for layer in baseModel.layers:\n",
    "    layer.trainable = False"
   ]
  },
  {
   "cell_type": "markdown",
   "metadata": {
    "colab_type": "text",
    "id": "ZPNg6oO_Le8o"
   },
   "source": [
    "#### Train the model from the last layer"
   ]
  },
  {
   "cell_type": "code",
   "execution_count": 6,
   "metadata": {
    "ExecuteTime": {
     "end_time": "2019-09-28T16:15:43.511153Z",
     "start_time": "2019-09-28T16:09:42.472200Z"
    },
    "colab": {
     "base_uri": "https://localhost:8080/",
     "height": 1000
    },
    "colab_type": "code",
    "id": "wGiuw2JWLe8q",
    "outputId": "e1286103-e99b-49e0-f5a0-a29525857a45"
   },
   "outputs": [
    {
     "name": "stdout",
     "output_type": "stream",
     "text": [
      "[INFO] compiling model...\n",
      "[INFO] training head...\n",
      "WARNING:tensorflow:From /home/rs/miniconda3/envs/nlp/lib/python3.7/site-packages/tensorflow/python/ops/math_ops.py:3066: to_int32 (from tensorflow.python.ops.math_ops) is deprecated and will be removed in a future version.\n",
      "Instructions for updating:\n",
      "Use tf.cast instead.\n",
      "Epoch 1/20\n",
      "197/197 [==============================] - 3517s 18s/step - loss: 1.5645 - accuracy: 0.3640 - val_loss: 1.0532 - val_accuracy: 0.5053\n"
     ]
    },
    {
     "name": "stderr",
     "output_type": "stream",
     "text": [
      "/home/rs/miniconda3/envs/nlp/lib/python3.7/site-packages/keras/callbacks/callbacks.py:846: RuntimeWarning: Early stopping conditioned on metric `val_acc` which is not available. Available metrics are: val_loss,val_accuracy,loss,accuracy\n",
      "  (self.monitor, ','.join(list(logs.keys()))), RuntimeWarning\n"
     ]
    },
    {
     "name": "stdout",
     "output_type": "stream",
     "text": [
      "Epoch 2/20\n",
      "197/197 [==============================] - 3535s 18s/step - loss: 1.0623 - accuracy: 0.5934 - val_loss: 0.9642 - val_accuracy: 0.5992\n",
      "Epoch 3/20\n",
      "197/197 [==============================] - 3515s 18s/step - loss: 0.8529 - accuracy: 0.6971 - val_loss: 0.9684 - val_accuracy: 0.6934\n",
      "Epoch 4/20\n",
      "197/197 [==============================] - 3524s 18s/step - loss: 0.7081 - accuracy: 0.7563 - val_loss: 0.8856 - val_accuracy: 0.7117\n",
      "Epoch 5/20\n",
      "197/197 [==============================] - 3457s 18s/step - loss: 0.6485 - accuracy: 0.7864 - val_loss: 0.5269 - val_accuracy: 0.7243\n",
      "Epoch 6/20\n",
      "197/197 [==============================] - 3438s 17s/step - loss: 0.5914 - accuracy: 0.8063 - val_loss: 0.5919 - val_accuracy: 0.7629\n",
      "Epoch 7/20\n",
      "197/197 [==============================] - 3522s 18s/step - loss: 0.5324 - accuracy: 0.8284 - val_loss: 0.4631 - val_accuracy: 0.7721\n",
      "Epoch 8/20\n",
      "197/197 [==============================] - 3461s 18s/step - loss: 0.5097 - accuracy: 0.8281 - val_loss: 0.4712 - val_accuracy: 0.7904\n",
      "Epoch 9/20\n",
      "197/197 [==============================] - 3452s 18s/step - loss: 0.4885 - accuracy: 0.8383 - val_loss: 0.5189 - val_accuracy: 0.7793\n",
      "Epoch 10/20\n",
      "197/197 [==============================] - 3530s 18s/step - loss: 0.4503 - accuracy: 0.8558 - val_loss: 0.5741 - val_accuracy: 0.8098\n",
      "Epoch 11/20\n",
      "197/197 [==============================] - 3589s 18s/step - loss: 0.4313 - accuracy: 0.8632 - val_loss: 0.4280 - val_accuracy: 0.7991\n",
      "Epoch 12/20\n",
      "197/197 [==============================] - 3517s 18s/step - loss: 0.4098 - accuracy: 0.8716 - val_loss: 0.4945 - val_accuracy: 0.8054\n",
      "Epoch 13/20\n",
      "197/197 [==============================] - 3595s 18s/step - loss: 0.3922 - accuracy: 0.8737 - val_loss: 0.4139 - val_accuracy: 0.8127\n",
      "Epoch 14/20\n",
      "197/197 [==============================] - 3518s 18s/step - loss: 0.3783 - accuracy: 0.8808 - val_loss: 0.5176 - val_accuracy: 0.8112\n",
      "Epoch 15/20\n",
      "197/197 [==============================] - 3539s 18s/step - loss: 0.3641 - accuracy: 0.8812 - val_loss: 0.5232 - val_accuracy: 0.8276\n",
      "Epoch 16/20\n",
      "197/197 [==============================] - 3605s 18s/step - loss: 0.3541 - accuracy: 0.8859 - val_loss: 0.8859 - val_accuracy: 0.8204\n",
      "Epoch 17/20\n",
      "197/197 [==============================] - 3517s 18s/step - loss: 0.3626 - accuracy: 0.8845 - val_loss: 0.7540 - val_accuracy: 0.8141\n",
      "Epoch 18/20\n",
      "197/197 [==============================] - 3578s 18s/step - loss: 0.3372 - accuracy: 0.8945 - val_loss: 0.7381 - val_accuracy: 0.8189\n",
      "Epoch 19/20\n",
      "197/197 [==============================] - 3543s 18s/step - loss: 0.3231 - accuracy: 0.8982 - val_loss: 0.5425 - val_accuracy: 0.8160\n",
      "Epoch 20/20\n",
      "197/197 [==============================] - 3611s 18s/step - loss: 0.3239 - accuracy: 0.8969 - val_loss: 0.4510 - val_accuracy: 0.8291\n"
     ]
    }
   ],
   "source": [
    "print(\"[INFO] compiling model...\")\n",
    "opt = SGD(lr=1e-4, momentum=0.9, decay=1e-4 / 4)\n",
    "model.compile(loss=\"categorical_crossentropy\", optimizer=opt,\n",
    "    metrics=[\"accuracy\"])\n",
    "\n",
    "callbacks = [ModelCheckpoint('/mnt/tera/Audio/tmp/checkpoint/weights_improvement_{epoch:02d}.hdf5', save_best_only=True),\n",
    "            EarlyStopping(monitor='val_acc', patience=2)]\n",
    "    \n",
    "print(\"[INFO] training head...\")\n",
    "batch_size = 32\n",
    "H = model.fit_generator(\n",
    "    trainAug.flow(trainX, trainY, batch_size=batch_size),\n",
    "    steps_per_epoch=len(trainX) // batch_size,\n",
    "    validation_data=valAug.flow(testX, testY),\n",
    "    validation_steps=len(testX) // batch_size,\n",
    "    callbacks=callbacks,\n",
    "    epochs=20, verbose = 1)"
   ]
  },
  {
   "cell_type": "code",
   "execution_count": 7,
   "metadata": {
    "colab": {},
    "colab_type": "code",
    "id": "nP-WKJzVLe8x"
   },
   "outputs": [
    {
     "data": {
      "text/html": [
       "<div>\n",
       "<style scoped>\n",
       "    .dataframe tbody tr th:only-of-type {\n",
       "        vertical-align: middle;\n",
       "    }\n",
       "\n",
       "    .dataframe tbody tr th {\n",
       "        vertical-align: top;\n",
       "    }\n",
       "\n",
       "    .dataframe thead th {\n",
       "        text-align: right;\n",
       "    }\n",
       "</style>\n",
       "<table border=\"1\" class=\"dataframe\">\n",
       "  <thead>\n",
       "    <tr style=\"text-align: right;\">\n",
       "      <th></th>\n",
       "      <th>val_loss</th>\n",
       "      <th>val_accuracy</th>\n",
       "      <th>loss</th>\n",
       "      <th>accuracy</th>\n",
       "    </tr>\n",
       "  </thead>\n",
       "  <tbody>\n",
       "    <tr>\n",
       "      <th>0</th>\n",
       "      <td>1.053249</td>\n",
       "      <td>0.505288</td>\n",
       "      <td>1.561575</td>\n",
       "      <td>0.364027</td>\n",
       "    </tr>\n",
       "    <tr>\n",
       "      <th>1</th>\n",
       "      <td>0.964242</td>\n",
       "      <td>0.599227</td>\n",
       "      <td>1.061728</td>\n",
       "      <td>0.593436</td>\n",
       "    </tr>\n",
       "    <tr>\n",
       "      <th>2</th>\n",
       "      <td>0.968367</td>\n",
       "      <td>0.693385</td>\n",
       "      <td>0.853156</td>\n",
       "      <td>0.697148</td>\n",
       "    </tr>\n",
       "    <tr>\n",
       "      <th>3</th>\n",
       "      <td>0.885649</td>\n",
       "      <td>0.711733</td>\n",
       "      <td>0.709477</td>\n",
       "      <td>0.756253</td>\n",
       "    </tr>\n",
       "    <tr>\n",
       "      <th>4</th>\n",
       "      <td>0.526938</td>\n",
       "      <td>0.724288</td>\n",
       "      <td>0.646240</td>\n",
       "      <td>0.786363</td>\n",
       "    </tr>\n",
       "  </tbody>\n",
       "</table>\n",
       "</div>"
      ],
      "text/plain": [
       "   val_loss  val_accuracy      loss  accuracy\n",
       "0  1.053249      0.505288  1.561575  0.364027\n",
       "1  0.964242      0.599227  1.061728  0.593436\n",
       "2  0.968367      0.693385  0.853156  0.697148\n",
       "3  0.885649      0.711733  0.709477  0.756253\n",
       "4  0.526938      0.724288  0.646240  0.786363"
      ]
     },
     "execution_count": 7,
     "metadata": {},
     "output_type": "execute_result"
    }
   ],
   "source": [
    "df = pd.DataFrame(H.history)\n",
    "df.head()"
   ]
  },
  {
   "cell_type": "code",
   "execution_count": 8,
   "metadata": {},
   "outputs": [
    {
     "data": {
      "text/plain": [
       "<matplotlib.legend.Legend at 0x7f3fe17e56d8>"
      ]
     },
     "execution_count": 8,
     "metadata": {},
     "output_type": "execute_result"
    },
    {
     "data": {
      "image/png": "[encoded data removed]",
      "text/plain": [
       "<Figure size 432x288 with 1 Axes>"
      ]
     },
     "metadata": {
      "needs_background": "light"
     },
     "output_type": "display_data"
    }
   ],
   "source": [
    "plt.plot('val_loss', data=df, marker='', color='blue', linewidth=2)\n",
    "plt.plot('loss', data=df, marker='', color='red', linewidth=2)\n",
    "plt.title('Train Loss vs Val Loss')\n",
    "plt.legend()"
   ]
  },
  {
   "cell_type": "code",
   "execution_count": 9,
   "metadata": {},
   "outputs": [
    {
     "data": {
      "text/plain": [
       "<matplotlib.legend.Legend at 0x7f3fe16fcba8>"
      ]
     },
     "execution_count": 9,
     "metadata": {},
     "output_type": "execute_result"
    },
    {
     "data": {
      "image/png": "[encoded data removed]",
      "text/plain": [
       "<Figure size 432x288 with 1 Axes>"
      ]
     },
     "metadata": {
      "needs_background": "light"
     },
     "output_type": "display_data"
    }
   ],
   "source": [
    "plt.plot('val_accuracy', data=df, marker='', color='blue', linewidth=2)\n",
    "plt.plot('accuracy', data=df, marker='', color='red', linewidth=2)\n",
    "plt.title('Train Accuracy vs Val Accuracy')\n",
    "plt.legend()"
   ]
  }
 ],
 "metadata": {
  "colab": {
   "name": "Video Classification.ipynb",
   "provenance": [],
   "toc_visible": true
  },
  "kernelspec": {
   "display_name": "Python 3",
   "language": "python",
   "name": "python3"
  },
  "language_info": {
   "codemirror_mode": {
    "name": "ipython",
    "version": 3
   },
   "file_extension": ".py",
   "mimetype": "text/x-python",
   "name": "python",
   "nbconvert_exporter": "python",
   "pygments_lexer": "ipython3",
   "version": "3.7.3"
  },
  "toc": {
   "base_numbering": 1,
   "nav_menu": {},
   "number_sections": true,
   "sideBar": true,
   "skip_h1_title": false,
   "title_cell": "Table of Contents",
   "title_sidebar": "Contents",
   "toc_cell": false,
   "toc_position": {},
   "toc_section_display": true,
   "toc_window_display": true
  },
  "varInspector": {
   "cols": {
    "lenName": 16,
    "lenType": 16,
    "lenVar": 40
   },
   "kernels_config": {
    "python": {
     "delete_cmd_postfix": "",
     "delete_cmd_prefix": "del ",
     "library": "var_list.py",
     "varRefreshCmd": "print(var_dic_list())"
    },
    "r": {
     "delete_cmd_postfix": ") ",
     "delete_cmd_prefix": "rm(",
     "library": "var_list.r",
     "varRefreshCmd": "cat(var_dic_list()) "
    }
   },
   "types_to_exclude": [
    "module",
    "function",
    "builtin_function_or_method",
    "instance",
    "_Feature"
   ],
   "window_display": false
  }
 },
 "nbformat": 4,
 "nbformat_minor": 1
}
